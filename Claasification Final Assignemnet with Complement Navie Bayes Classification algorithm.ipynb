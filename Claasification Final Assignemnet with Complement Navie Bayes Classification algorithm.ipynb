{
 "cells": [
  {
   "cell_type": "code",
   "execution_count": 10,
   "metadata": {},
   "outputs": [],
   "source": [
    "import pandas as pd\n",
    "import numpy as np\n",
    "dataset=pd.read_csv(\"ckd.csv\")\n"
   ]
  },
  {
   "cell_type": "code",
   "execution_count": 11,
   "metadata": {},
   "outputs": [
    {
     "data": {
      "text/plain": [
       "Index(['age', 'bp', 'al', 'su', 'bgr', 'bu', 'sc', 'sod', 'pot', 'hrmo', 'pcv',\n",
       "       'wc', 'rc', 'sg_b', 'sg_c', 'sg_d', 'sg_e', 'rbc_normal', 'pc_normal',\n",
       "       'pcc_present', 'ba_present', 'htn_yes', 'dm_yes', 'cad_yes',\n",
       "       'appet_yes', 'pe_yes', 'ane_yes', 'classification_yes'],\n",
       "      dtype='object')"
      ]
     },
     "execution_count": 11,
     "metadata": {},
     "output_type": "execute_result"
    }
   ],
   "source": [
    "dataset=pd.get_dummies(dataset, drop_first=True)\n",
    "dataset.columns"
   ]
  },
  {
   "cell_type": "code",
   "execution_count": 12,
   "metadata": {},
   "outputs": [],
   "source": [
    "independent=dataset[['age', 'bp', 'al', 'su', 'bgr', 'bu', 'sc', 'sod', 'pot', 'hrmo', 'pcv',\n",
    "       'wc', 'rc', 'sg_b', 'sg_c', 'sg_d', 'sg_e', 'rbc_normal', 'pc_normal',\n",
    "       'pcc_present', 'ba_present', 'htn_yes', 'dm_yes', 'cad_yes',\n",
    "       'appet_yes', 'pe_yes', 'ane_yes']]\n",
    "\n"
   ]
  },
  {
   "cell_type": "code",
   "execution_count": 13,
   "metadata": {},
   "outputs": [],
   "source": [
    "\n",
    "dependent=dataset['classification_yes']\n"
   ]
  },
  {
   "cell_type": "code",
   "execution_count": 18,
   "metadata": {},
   "outputs": [],
   "source": [
    "\n",
    "from sklearn.model_selection import train_test_split\n",
    "x_train, x_test, y_train, y_test = train_test_split(independent, dependent, test_size = 1/3, random_state = 0)"
   ]
  },
  {
   "cell_type": "code",
   "execution_count": 19,
   "metadata": {},
   "outputs": [],
   "source": [
    "#from sklearn.preprocessing import StandardScaler\n",
    "#SC=StandardScaler()\n",
    "#x_train=SC.fit_transform(x_train)\n",
    "#x_test=SC.transform(x_test)\n",
    "#x_train"
   ]
  },
  {
   "cell_type": "code",
   "execution_count": 20,
   "metadata": {
    "scrolled": true
   },
   "outputs": [
    {
     "data": {
      "text/plain": [
       "GridSearchCV(estimator=ComplementNB(),\n",
       "             param_grid={'alpha': [0.1, 0.5, 1.0, 1.5, 2.0, 5.0, 10.0]},\n",
       "             scoring='f1_weighted')"
      ]
     },
     "execution_count": 20,
     "metadata": {},
     "output_type": "execute_result"
    }
   ],
   "source": [
    "from sklearn.naive_bayes import ComplementNB\n",
    "from sklearn.model_selection import GridSearchCV\n",
    "param_grid= {'alpha': [0.1, 0.5, 1.0, 1.5, 2.0, 5.0, 10.0]}\n",
    "\n",
    "grid=GridSearchCV(ComplementNB(),param_grid,scoring='f1_weighted')\n",
    "grid.fit(x_train,y_train)"
   ]
  },
  {
   "cell_type": "code",
   "execution_count": 21,
   "metadata": {},
   "outputs": [],
   "source": [
    "# print best parameter after tuning \n",
    "#print(grid.best_params_) \n"
   ]
  },
  {
   "cell_type": "code",
   "execution_count": 22,
   "metadata": {},
   "outputs": [
    {
     "name": "stdout",
     "output_type": "stream",
     "text": [
      "{'mean_fit_time': array([0.00577197, 0.0054678 , 0.00488272, 0.00440044, 0.00455322,\n",
      "       0.00442891, 0.00496349]), 'std_fit_time': array([0.0031058 , 0.00093453, 0.0002391 , 0.00080081, 0.00042234,\n",
      "       0.00053153, 0.00017216]), 'mean_score_time': array([0.00498672, 0.0040215 , 0.00384469, 0.00380497, 0.00399337,\n",
      "       0.00398626, 0.00408058]), 'std_score_time': array([6.08295229e-04, 5.97920839e-04, 3.09801340e-04, 7.02443292e-04,\n",
      "       1.64813299e-05, 7.86118662e-05, 1.37126992e-04]), 'param_alpha': masked_array(data=[0.1, 0.5, 1.0, 1.5, 2.0, 5.0, 10.0],\n",
      "             mask=[False, False, False, False, False, False, False],\n",
      "       fill_value='?',\n",
      "            dtype=object), 'params': [{'alpha': 0.1}, {'alpha': 0.5}, {'alpha': 1.0}, {'alpha': 1.5}, {'alpha': 2.0}, {'alpha': 5.0}, {'alpha': 10.0}], 'split0_test_score': array([0.83592759, 0.81736909, 0.81736909, 0.79860872, 0.79860872,\n",
      "       0.79860872, 0.77960928]), 'split1_test_score': array([0.8515274 , 0.8515274 , 0.8515274 , 0.83332289, 0.83332289,\n",
      "       0.79668694, 0.77817884]), 'split2_test_score': array([0.88851518, 0.86992495, 0.86992495, 0.86992495, 0.85122533,\n",
      "       0.85122533, 0.85122533]), 'split3_test_score': array([0.88851518, 0.88851518, 0.86992495, 0.86992495, 0.85122533,\n",
      "       0.85122533, 0.79408065]), 'split4_test_score': array([0.88828639, 0.86984913, 0.85135357, 0.85135357, 0.85135357,\n",
      "       0.85135357, 0.85135357]), 'mean_test_score': array([0.87055435, 0.85943715, 0.85201999, 0.84462702, 0.83714717,\n",
      "       0.82981998, 0.81088953]), 'std_test_score': array([0.02245282, 0.02406749, 0.0191966 , 0.02672334, 0.02048437,\n",
      "       0.02627552, 0.03345235]), 'rank_test_score': array([1, 2, 3, 4, 5, 6, 7])}\n"
     ]
    }
   ],
   "source": [
    "re=grid.cv_results_\n",
    "print(re)\n"
   ]
  },
  {
   "cell_type": "code",
   "execution_count": 23,
   "metadata": {},
   "outputs": [
    {
     "data": {
      "text/plain": [
       "array([[50,  1],\n",
       "       [20, 62]], dtype=int64)"
      ]
     },
     "execution_count": 23,
     "metadata": {},
     "output_type": "execute_result"
    }
   ],
   "source": [
    "grid_predictions = grid.predict(x_test) \n",
    "\n",
    "from sklearn.metrics import confusion_matrix\n",
    "cm = confusion_matrix(y_test, grid_predictions)\n",
    "cm\n"
   ]
  },
  {
   "cell_type": "code",
   "execution_count": 24,
   "metadata": {},
   "outputs": [
    {
     "name": "stdout",
     "output_type": "stream",
     "text": [
      "              precision    recall  f1-score   support\n",
      "\n",
      "           0       0.71      0.98      0.83        51\n",
      "           1       0.98      0.76      0.86        82\n",
      "\n",
      "    accuracy                           0.84       133\n",
      "   macro avg       0.85      0.87      0.84       133\n",
      "weighted avg       0.88      0.84      0.84       133\n",
      "\n"
     ]
    }
   ],
   "source": [
    "\n",
    "# print classification report \n",
    "from sklearn.metrics import classification_report\n",
    "clf_report = classification_report(y_test, grid_predictions)\n",
    "print(clf_report)"
   ]
  },
  {
   "cell_type": "code",
   "execution_count": 25,
   "metadata": {},
   "outputs": [
    {
     "name": "stdout",
     "output_type": "stream",
     "text": [
      "The f1_macro value for best parameter {'alpha': 0.1}: 0.8441571297865639\n"
     ]
    }
   ],
   "source": [
    "\n",
    "from sklearn.metrics import f1_score\n",
    "f1_macro=f1_score(y_test,grid_predictions,average='weighted')\n",
    "print(\"The f1_macro value for best parameter {}:\".format(grid.best_params_),f1_macro)\n"
   ]
  },
  {
   "cell_type": "code",
   "execution_count": 26,
   "metadata": {},
   "outputs": [
    {
     "data": {
      "text/plain": [
       "0.9356767097082734"
      ]
     },
     "execution_count": 26,
     "metadata": {},
     "output_type": "execute_result"
    }
   ],
   "source": [
    "from sklearn.metrics import roc_auc_score\n",
    "\n",
    "roc_auc_score(y_test,grid.predict_proba(x_test)[:,1])\n"
   ]
  },
  {
   "cell_type": "code",
   "execution_count": 27,
   "metadata": {},
   "outputs": [],
   "source": [
    "table=pd.DataFrame.from_dict(re)"
   ]
  },
  {
   "cell_type": "code",
   "execution_count": 28,
   "metadata": {},
   "outputs": [
    {
     "data": {
      "text/html": [
       "<div>\n",
       "<style scoped>\n",
       "    .dataframe tbody tr th:only-of-type {\n",
       "        vertical-align: middle;\n",
       "    }\n",
       "\n",
       "    .dataframe tbody tr th {\n",
       "        vertical-align: top;\n",
       "    }\n",
       "\n",
       "    .dataframe thead th {\n",
       "        text-align: right;\n",
       "    }\n",
       "</style>\n",
       "<table border=\"1\" class=\"dataframe\">\n",
       "  <thead>\n",
       "    <tr style=\"text-align: right;\">\n",
       "      <th></th>\n",
       "      <th>mean_fit_time</th>\n",
       "      <th>std_fit_time</th>\n",
       "      <th>mean_score_time</th>\n",
       "      <th>std_score_time</th>\n",
       "      <th>param_alpha</th>\n",
       "      <th>params</th>\n",
       "      <th>split0_test_score</th>\n",
       "      <th>split1_test_score</th>\n",
       "      <th>split2_test_score</th>\n",
       "      <th>split3_test_score</th>\n",
       "      <th>split4_test_score</th>\n",
       "      <th>mean_test_score</th>\n",
       "      <th>std_test_score</th>\n",
       "      <th>rank_test_score</th>\n",
       "    </tr>\n",
       "  </thead>\n",
       "  <tbody>\n",
       "    <tr>\n",
       "      <td>0</td>\n",
       "      <td>0.005772</td>\n",
       "      <td>0.003106</td>\n",
       "      <td>0.004987</td>\n",
       "      <td>0.000608</td>\n",
       "      <td>0.1</td>\n",
       "      <td>{'alpha': 0.1}</td>\n",
       "      <td>0.835928</td>\n",
       "      <td>0.851527</td>\n",
       "      <td>0.888515</td>\n",
       "      <td>0.888515</td>\n",
       "      <td>0.888286</td>\n",
       "      <td>0.870554</td>\n",
       "      <td>0.022453</td>\n",
       "      <td>1</td>\n",
       "    </tr>\n",
       "    <tr>\n",
       "      <td>1</td>\n",
       "      <td>0.005468</td>\n",
       "      <td>0.000935</td>\n",
       "      <td>0.004022</td>\n",
       "      <td>0.000598</td>\n",
       "      <td>0.5</td>\n",
       "      <td>{'alpha': 0.5}</td>\n",
       "      <td>0.817369</td>\n",
       "      <td>0.851527</td>\n",
       "      <td>0.869925</td>\n",
       "      <td>0.888515</td>\n",
       "      <td>0.869849</td>\n",
       "      <td>0.859437</td>\n",
       "      <td>0.024067</td>\n",
       "      <td>2</td>\n",
       "    </tr>\n",
       "    <tr>\n",
       "      <td>2</td>\n",
       "      <td>0.004883</td>\n",
       "      <td>0.000239</td>\n",
       "      <td>0.003845</td>\n",
       "      <td>0.000310</td>\n",
       "      <td>1</td>\n",
       "      <td>{'alpha': 1.0}</td>\n",
       "      <td>0.817369</td>\n",
       "      <td>0.851527</td>\n",
       "      <td>0.869925</td>\n",
       "      <td>0.869925</td>\n",
       "      <td>0.851354</td>\n",
       "      <td>0.852020</td>\n",
       "      <td>0.019197</td>\n",
       "      <td>3</td>\n",
       "    </tr>\n",
       "    <tr>\n",
       "      <td>3</td>\n",
       "      <td>0.004400</td>\n",
       "      <td>0.000801</td>\n",
       "      <td>0.003805</td>\n",
       "      <td>0.000702</td>\n",
       "      <td>1.5</td>\n",
       "      <td>{'alpha': 1.5}</td>\n",
       "      <td>0.798609</td>\n",
       "      <td>0.833323</td>\n",
       "      <td>0.869925</td>\n",
       "      <td>0.869925</td>\n",
       "      <td>0.851354</td>\n",
       "      <td>0.844627</td>\n",
       "      <td>0.026723</td>\n",
       "      <td>4</td>\n",
       "    </tr>\n",
       "    <tr>\n",
       "      <td>4</td>\n",
       "      <td>0.004553</td>\n",
       "      <td>0.000422</td>\n",
       "      <td>0.003993</td>\n",
       "      <td>0.000016</td>\n",
       "      <td>2</td>\n",
       "      <td>{'alpha': 2.0}</td>\n",
       "      <td>0.798609</td>\n",
       "      <td>0.833323</td>\n",
       "      <td>0.851225</td>\n",
       "      <td>0.851225</td>\n",
       "      <td>0.851354</td>\n",
       "      <td>0.837147</td>\n",
       "      <td>0.020484</td>\n",
       "      <td>5</td>\n",
       "    </tr>\n",
       "    <tr>\n",
       "      <td>5</td>\n",
       "      <td>0.004429</td>\n",
       "      <td>0.000532</td>\n",
       "      <td>0.003986</td>\n",
       "      <td>0.000079</td>\n",
       "      <td>5</td>\n",
       "      <td>{'alpha': 5.0}</td>\n",
       "      <td>0.798609</td>\n",
       "      <td>0.796687</td>\n",
       "      <td>0.851225</td>\n",
       "      <td>0.851225</td>\n",
       "      <td>0.851354</td>\n",
       "      <td>0.829820</td>\n",
       "      <td>0.026276</td>\n",
       "      <td>6</td>\n",
       "    </tr>\n",
       "    <tr>\n",
       "      <td>6</td>\n",
       "      <td>0.004963</td>\n",
       "      <td>0.000172</td>\n",
       "      <td>0.004081</td>\n",
       "      <td>0.000137</td>\n",
       "      <td>10</td>\n",
       "      <td>{'alpha': 10.0}</td>\n",
       "      <td>0.779609</td>\n",
       "      <td>0.778179</td>\n",
       "      <td>0.851225</td>\n",
       "      <td>0.794081</td>\n",
       "      <td>0.851354</td>\n",
       "      <td>0.810890</td>\n",
       "      <td>0.033452</td>\n",
       "      <td>7</td>\n",
       "    </tr>\n",
       "  </tbody>\n",
       "</table>\n",
       "</div>"
      ],
      "text/plain": [
       "   mean_fit_time  std_fit_time  mean_score_time  std_score_time param_alpha  \\\n",
       "0       0.005772      0.003106         0.004987        0.000608         0.1   \n",
       "1       0.005468      0.000935         0.004022        0.000598         0.5   \n",
       "2       0.004883      0.000239         0.003845        0.000310           1   \n",
       "3       0.004400      0.000801         0.003805        0.000702         1.5   \n",
       "4       0.004553      0.000422         0.003993        0.000016           2   \n",
       "5       0.004429      0.000532         0.003986        0.000079           5   \n",
       "6       0.004963      0.000172         0.004081        0.000137          10   \n",
       "\n",
       "            params  split0_test_score  split1_test_score  split2_test_score  \\\n",
       "0   {'alpha': 0.1}           0.835928           0.851527           0.888515   \n",
       "1   {'alpha': 0.5}           0.817369           0.851527           0.869925   \n",
       "2   {'alpha': 1.0}           0.817369           0.851527           0.869925   \n",
       "3   {'alpha': 1.5}           0.798609           0.833323           0.869925   \n",
       "4   {'alpha': 2.0}           0.798609           0.833323           0.851225   \n",
       "5   {'alpha': 5.0}           0.798609           0.796687           0.851225   \n",
       "6  {'alpha': 10.0}           0.779609           0.778179           0.851225   \n",
       "\n",
       "   split3_test_score  split4_test_score  mean_test_score  std_test_score  \\\n",
       "0           0.888515           0.888286         0.870554        0.022453   \n",
       "1           0.888515           0.869849         0.859437        0.024067   \n",
       "2           0.869925           0.851354         0.852020        0.019197   \n",
       "3           0.869925           0.851354         0.844627        0.026723   \n",
       "4           0.851225           0.851354         0.837147        0.020484   \n",
       "5           0.851225           0.851354         0.829820        0.026276   \n",
       "6           0.794081           0.851354         0.810890        0.033452   \n",
       "\n",
       "   rank_test_score  \n",
       "0                1  \n",
       "1                2  \n",
       "2                3  \n",
       "3                4  \n",
       "4                5  \n",
       "5                6  \n",
       "6                7  "
      ]
     },
     "execution_count": 28,
     "metadata": {},
     "output_type": "execute_result"
    }
   ],
   "source": [
    "table"
   ]
  },
  {
   "cell_type": "code",
   "execution_count": null,
   "metadata": {},
   "outputs": [],
   "source": []
  },
  {
   "cell_type": "code",
   "execution_count": null,
   "metadata": {},
   "outputs": [],
   "source": []
  }
 ],
 "metadata": {
  "kernelspec": {
   "display_name": "Python 3",
   "language": "python",
   "name": "python3"
  },
  "language_info": {
   "codemirror_mode": {
    "name": "ipython",
    "version": 3
   },
   "file_extension": ".py",
   "mimetype": "text/x-python",
   "name": "python",
   "nbconvert_exporter": "python",
   "pygments_lexer": "ipython3",
   "version": "3.7.4"
  }
 },
 "nbformat": 4,
 "nbformat_minor": 2
}
